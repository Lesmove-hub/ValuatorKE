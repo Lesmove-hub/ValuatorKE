{
  "nbformat": 4,
  "nbformat_minor": 0,
  "metadata": {
    "colab": {
      "name": "Webscraping4.ipynb",
      "provenance": [],
      "collapsed_sections": [],
      "authorship_tag": "ABX9TyN2f0ht7KWK5wAGPSsWr7pw",
      "include_colab_link": true
    },
    "kernelspec": {
      "name": "python3",
      "display_name": "Python 3"
    }
  },
  "cells": [
    {
      "cell_type": "markdown",
      "metadata": {
        "id": "view-in-github",
        "colab_type": "text"
      },
      "source": [
        "<a href=\"https://colab.research.google.com/github/Lesmove-hub/ValuatorKE/blob/Webscraping/Webscraping4.ipynb\" target=\"_parent\"><img src=\"https://colab.research.google.com/assets/colab-badge.svg\" alt=\"Open In Colab\"/></a>"
      ]
    },
    {
      "cell_type": "code",
      "metadata": {
        "colab": {
          "base_uri": "https://localhost:8080/",
          "height": 129
        },
        "id": "Jkl9Hufsluye",
        "outputId": "cabf330f-f92e-4325-9171-82879a5dae4a"
      },
      "source": [
        "!pip install kora\r\n",
        "from kora.selenium import wd\r\n",
        "\r\n",
        "url = \"https://www.buyrentkenya.com/property-for-sale\"\r\n",
        "\r\n",
        "wd.get(url)\r\n",
        "\r\n",
        "\r\n",
        "search_field = wd.field_element_by_id(data-select2-id=\"2\")\r\n",
        "search_field.send_keys(\"Westlands\")\r\n",
        "\r\n",
        "searchButton = wd.field_element_by_id(<button type=\"submit\" class=\"btn btn-primary btn-block search-listings expand\"</button>\r\n",
        "searchButton.click()\r\n",
        "\r\n",
        "wd.save_screenshot(\"screenshot.png\")"
      ],
      "execution_count": null,
      "outputs": [
        {
          "output_type": "error",
          "ename": "SyntaxError",
          "evalue": "ignored",
          "traceback": [
            "\u001b[0;36m  File \u001b[0;32m\"<ipython-input-1-72313a8fa89a>\"\u001b[0;36m, line \u001b[0;32m9\u001b[0m\n\u001b[0;31m    search_field = wd.field_element_by_id(data-select2-id=\"2\")\u001b[0m\n\u001b[0m                                         ^\u001b[0m\n\u001b[0;31mSyntaxError\u001b[0m\u001b[0;31m:\u001b[0m keyword can't be an expression\n"
          ]
        }
      ]
    },
    {
      "cell_type": "code",
      "metadata": {
        "id": "v30mlC4x4VTU"
      },
      "source": [
        "import pandas as pd\r\n",
        "\r\n",
        "tables = pd.read_html(wd.page_source, attrs = {'class': 'srcGridTables'})\r\n",
        "tables(0)\r\n"
      ],
      "execution_count": null,
      "outputs": []
    },
    {
      "cell_type": "code",
      "metadata": {
        "id": "S9_x0N804wAY"
      },
      "source": [
        "from bs4 import BeautifulSoup\r\n",
        "\r\n",
        "soup = BeautifulSoup(wd.page_source)\r\n",
        "table = soup.find(\"table\", {'class': \"srcGridTables\"})"
      ],
      "execution_count": null,
      "outputs": []
    }
  ]
}