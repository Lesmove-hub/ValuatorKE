{
  "nbformat": 4,
  "nbformat_minor": 0,
  "metadata": {
    "colab": {
      "name": "ZillowScraper.py",
      "provenance": [],
      "collapsed_sections": [],
      "authorship_tag": "ABX9TyM/Kio1X7+h0QFHRsFfsa0a",
      "include_colab_link": true
    },
    "kernelspec": {
      "name": "python3",
      "display_name": "Python 3"
    }
  },
  "cells": [
    {
      "cell_type": "markdown",
      "metadata": {
        "id": "view-in-github",
        "colab_type": "text"
      },
      "source": [
        "<a href=\"https://colab.research.google.com/github/Lesmove-hub/ValuatorKE/blob/Webscraping/ZillowScraper_py.ipynb\" target=\"_parent\"><img src=\"https://colab.research.google.com/assets/colab-badge.svg\" alt=\"Open In Colab\"/></a>"
      ]
    },
    {
      "cell_type": "code",
      "metadata": {
        "id": "uzcx0TNgxuLD"
      },
      "source": [
        "from bs4 import BeautifulSoup\r\n",
        "import requests \r\n",
        "\r\n",
        "\r\n",
        "class ZillowScraper: \r\n",
        "  headers = {\r\n",
        "            'accept: text/html,application/xhtml+xml,application/xml;q=0.9,image/avif,image/webp,image/apng,*/*;q=0.8,application/signed-exchange;v=b3;q=0.9'\r\n",
        "            'accept-encoding: gzip, deflate, br'\r\n",
        "            'accept-language: en-GB,en-US;q=0.9,en;q=0.8'\r\n",
        "            'cache-control: max-age=0'\r\n",
        "            'cookie: zguid=23|%2413fdc177-77af-4204-ad79-f00b1b10e8f4; _ga=GA1.2.917550227.1611571172; _gid=GA1.2.484729963.1611571172; zjs_user_id=null; zjs_anonymous_id=%2213fdc177-77af-4204-ad79-f00b1b10e8f4%22; _gcl_au=1.1.1016239680.1611571173; KruxPixel=true; _pxvid=9cd76ac0-5ef9-11eb-8ddf-0242ac120016; _fbp=fb.1.1611571179360.1158239348; _pin_unauth=dWlkPVlXVmpNV0pqWVdFdE9HVTRZaTAwTUdSaUxXRmtNekV0Wmpoa00yTTFZbVUwWmpZNA; KruxAddition=true; g_state={\"i_p\":1611578404836,\"i_l\":1}; JSESSIONID=C2376C3AEF6089BA0CF0A09C5F1CD098; zgsession=1|4b45fe1b-1890-4f85-9511-0e825d724bd0; DoubleClickSession=true; _uetsid=9d0852105ef911ebbb15ed9931ffd404; _uetvid=9d0885b05ef911ebac707db0d5fd4e10; _derived_epik=dj0yJnU9cEZiZnpDa0F5VXAwTmM2UHZ4ZEF0Skc3emtNYVpVckkmbj1TcFhuTFFZcXFOendmaFdjeF9HckpnJm09MSZ0PUFBQUFBR0FPeV8wJnJtPTEmcnQ9QUFBQUFHQU95XzA; _px3=67b2b73010ed8068bdd4ce5a1f2781584cca9e30ddb72ae1ec65bbc3e6765966:j1lZX16eyYz10oPNUC9pNoGpJjb59501zUSYQ77omlnyMiUolEXSHQS1+qLgvAG5l0MWKVcYPWD8gwGbLQV4tQ==:1000:umlo5tiSALJUbO6MC7n1p/Xp8etUoASK4Sl27nGFM15OElHiW2onY8VYMW7oOhaFa10nfVHNWxmArsKA4ho4BXvcx85rvjjBs/4iz0HQwsbyJ4cfxW2R07G01/6EAuEUHRFvGcRHZBcweOVlpVlJEbuymhQmyUwc/IkdfIUnEvA=; AWSALB=jtgSC5Pe9jUBjgcdzK74shNH8gl2aWngCC5kj+6loc8yy96z44Ag2iY603qtdRUcyija7PfDUA5ry8xSKHoO9gFBi+xtMiIYvEunRBFP8/bA/K5wArL5NZAt/+O6; AWSALBCORS=jtgSC5Pe9jUBjgcdzK74shNH8gl2aWngCC5kj+6loc8yy96z44Ag2iY603qtdRUcyija7PfDUA5ry8xSKHoO9gFBi+xtMiIYvEunRBFP8/bA/K5wArL5NZAt/+O6; search=6|1614174491082%7Crect%3D43.21945280293094%252C-72.19542476171875%252C38.09378394709231%252C-75.76048823828125%26rid%3D6181%26disp%3Dmap%26mdm%3Dauto%26p%3D1%26z%3D1%26pt%3Dpmf%252Cpf%26fs%3D1%26fr%3D0%26mmm%3D1%26rs%3D0%26ah%3D0%26singlestory%3D0%26housing-connector%3D0%26abo%3D0%26garage%3D0%26pool%3D0%26ac%3D0%26waterfront%3D0%26finished%3D0%26unfinished%3D0%26cityview%3D0%26mountainview%3D0%26parkview%3D0%26waterview%3D0%26hoadata%3D1%26zillow-owned%3D0%263dhome%3D0%09%096181%09%09%09%09%09%09; __gads=ID=876bfc184f5c1bd6:T=1611571236:RT=1611582493:S=ALNI_Mb32tdPHK5yBISeN_JqW41t8-kiPQ'\r\n",
        "            'dnt: 1'\r\n",
        "            'sec-fetch-dest: document'\r\n",
        "            'sec-fetch-mode: navigate'\r\n",
        "            'sec-fetch-site: same-origin'\r\n",
        "            'sec-fetch-user: ?1'\r\n",
        "            'upgrade-insecure-requests: 1'\r\n",
        "            'user-agent: Mozilla/5.0 (iPad; CPU OS 11_0 like Mac OS X) AppleWebKit/604.1.34 (KHTML, like Gecko) Version/11.0 Mobile/15A5341f Safari/604.1'\r\n",
        "  }\r\n",
        "  params = {\r\n",
        "            'searchQueryState: {\"pagination\":{},\"usersSearchTerm\":\"New York, NY\",\"mapBounds\":{\"west\":-75.76048823828125,\"east\":-72.19542476171875,\"south\":38.09378394709231,\"north\":43.21945280293094},\"regionSelection\":[{\"regionId\":6181,\"regionType\":6}],\"isMapVisible\":true,\"filterState\":{\"ah\":{\"value\":true},\"sort\":{\"value\":\"globalrelevanceex\"}},\"isListVisible\":true,\"mapZoom\":8}'\r\n",
        "  }\r\n",
        "\r\n",
        "\r\n",
        "  def fetch(self, url, params):\r\n",
        "    print('HTTP GET REQUEST TO URL: %s' end= '') % url \r\n",
        "    res = requests.get(url, params= self.params, headers = self.heasders)\r\n",
        "    print('| Status code: %s' % res.status_code)\r\n",
        "    \r\n",
        "  def save_response(self, res): \r\n",
        "    with open('res.html', 'w') as html_file:\r\n",
        "      html_file.write(res) \r\n",
        "    \r\n",
        "  def load_response(self): \r\n",
        "    html = ''\r\n",
        "\r\n",
        "    with open('res.html', 'r') as html_file:\r\n",
        "      for line in html_file:\r\n",
        "        html += file\r\n",
        "\r\n",
        "\r\n",
        "    return html \r\n",
        "      \r\n",
        "  def parse(self, html):\r\n",
        "      pass\r\n",
        "    \r\n",
        "  def to_csv(self): \r\n",
        "    pass\r\n",
        "\r\n",
        "\r\n",
        "  def run(self):\r\n",
        "    pass\r\n",
        "\r\n",
        "if __name__ == '__main__':\r\n",
        "  scraper = ZillowScraper()\r\n",
        "  scraper.run()\r\n",
        "\r\n",
        "\r\n"
      ],
      "execution_count": null,
      "outputs": []
    }
  ]
}